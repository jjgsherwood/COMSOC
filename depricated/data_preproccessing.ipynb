{
 "cells": [
  {
   "cell_type": "code",
   "execution_count": 1,
   "metadata": {},
   "outputs": [],
   "source": [
    "import numpy as np\n",
    "import pickle\n",
    "import matplotlib.pyplot as plt\n",
    "from pylab import rcParams\n"
   ]
  },
  {
   "cell_type": "code",
   "execution_count": 2,
   "metadata": {},
   "outputs": [],
   "source": [
    "class Profile():\n",
    "    def __init__(self, filename):\n",
    "        self._metadata = {}\n",
    "        self._projects = {}\n",
    "        self._votes = {}\n",
    "        with open(filename, \"r\", encoding=\"utf8\") as self.file:\n",
    "            self.__read_lines()\n",
    "\n",
    "        self.__convert_projects()\n",
    "        self.__convert_votes()\n",
    "        \n",
    "    @property\n",
    "    def ballots(self):\n",
    "        return self._ballots\n",
    "        \n",
    "    def __convert_projects(self):\n",
    "        self._projectid_to_index = {}\n",
    "        tmp = {}\n",
    "        for i, (proj_id, budget) in enumerate(self._projects.items()):\n",
    "            self._projectid_to_index[proj_id] = i\n",
    "            tmp[i] = budget\n",
    "        self._projects = tmp\n",
    "        \n",
    "    def __convert_votes(self):\n",
    "        self._votes = [np.array([self._projectid_to_index[x]]) if isinstance(x, int) else np.array([self._projectid_to_index[int(y)] for y in x.split(\",\")]) for x in self._votes.values()]\n",
    "        self._ballots = np.zeros((self._metadata[\"num_votes\"], self._metadata[\"num_projects\"]))\n",
    "        for i, vote in enumerate(self._votes):\n",
    "            self._ballots[i,vote] = 1\n",
    "       \n",
    "    def __read_lines(self):\n",
    "        _sections = {\"META\":self._metadata, \n",
    "                     \"PROJECTS\":self._projects, \n",
    "                     \"VOTES\":self._votes}\n",
    "        _slices = {\"key\":\"value\",\n",
    "                   \"project_id\":\"cost\",\n",
    "                   \"voter_id\":\"vote\"}\n",
    "        \n",
    "        for line in self.file:\n",
    "            line = line.strip()\n",
    "\n",
    "            items = line.split(\";\")\n",
    "            # find the right index for one of the properties (value, cost, vote)\n",
    "            try:\n",
    "                index = items.index(_slices[items[0]])\n",
    "            except KeyError:\n",
    "                pass\n",
    "            else:\n",
    "                continue \n",
    "            \n",
    "            # switch to a new dict when a new section is found\n",
    "            try: \n",
    "                _current = _sections[line]\n",
    "            except KeyError:\n",
    "                pass\n",
    "            else:\n",
    "                continue\n",
    "            \n",
    "            # read data\n",
    "            try:\n",
    "                try:\n",
    "                    key = int(items[0])\n",
    "                except ValueError:\n",
    "                    key = items[0]\n",
    "                _current[key] = int(items[index])\n",
    "            except IndexError:\n",
    "                pass\n",
    "            except ValueError:\n",
    "                _current[key] = items[index]"
   ]
  },
  {
   "cell_type": "code",
   "execution_count": 3,
   "metadata": {},
   "outputs": [],
   "source": [
    "with open(\"data//sorted_files.pkl\", 'rb') as f:\n",
    "    file_division = pickle.load(f)"
   ]
  },
  {
   "cell_type": "code",
   "execution_count": 4,
   "metadata": {},
   "outputs": [],
   "source": [
    "approval_profile_files = sorted(file_division['approval'], key=lambda x: x[2], reverse=True)"
   ]
  },
  {
   "cell_type": "code",
   "execution_count": 11,
   "metadata": {},
   "outputs": [
    {
     "data": {
      "text/plain": [
       "{'description': 'District PB in Warsaw, Praga-Południe',\n",
       " 'country': 'Poland',\n",
       " 'unit': 'Warszawa',\n",
       " 'subunit': 'Praga-Południe',\n",
       " 'instance': 2018,\n",
       " 'district': 'Praga-Południe',\n",
       " 'num_projects': 35,\n",
       " 'num_votes': 8700,\n",
       " 'budget': '707607,00',\n",
       " 'vote_type': 'approval',\n",
       " 'rule': 'greedy',\n",
       " 'date_begin': '14.06.2017',\n",
       " 'date_end': '30.06.2017',\n",
       " 'min_length': 1,\n",
       " 'max_sum_cost': '707607,00',\n",
       " 'language': 'polish',\n",
       " 'edition': 4}"
      ]
     },
     "execution_count": 11,
     "metadata": {},
     "output_type": "execute_result"
    }
   ],
   "source": [
    "x = Profile(approval_profile_files[0][0])\n",
    "x._metadata\n",
    "# x._projects"
   ]
  },
  {
   "cell_type": "code",
   "execution_count": 10,
   "metadata": {},
   "outputs": [
    {
     "data": {
      "text/plain": [
       "array([[1., 0., 0., ..., 0., 0., 0.],\n",
       "       [1., 1., 1., ..., 1., 0., 0.],\n",
       "       [1., 0., 1., ..., 0., 0., 0.],\n",
       "       ...,\n",
       "       [0., 1., 1., ..., 1., 0., 0.],\n",
       "       [0., 0., 0., ..., 0., 0., 0.],\n",
       "       [0., 0., 0., ..., 0., 0., 0.]])"
      ]
     },
     "execution_count": 10,
     "metadata": {},
     "output_type": "execute_result"
    }
   ],
   "source": [
    "x.ballots"
   ]
  },
  {
   "cell_type": "code",
   "execution_count": null,
   "metadata": {},
   "outputs": [],
   "source": []
  }
 ],
 "metadata": {
  "kernelspec": {
   "display_name": "Python 3",
   "language": "python",
   "name": "python3"
  },
  "language_info": {
   "codemirror_mode": {
    "name": "ipython",
    "version": 3
   },
   "file_extension": ".py",
   "mimetype": "text/x-python",
   "name": "python",
   "nbconvert_exporter": "python",
   "pygments_lexer": "ipython3",
   "version": "3.7.9"
  }
 },
 "nbformat": 4,
 "nbformat_minor": 4
}
