{
 "cells": [
  {
   "cell_type": "code",
   "execution_count": 2,
   "metadata": {},
   "outputs": [],
   "source": [
    "import numpy as np\n"
   ]
  },
  {
   "cell_type": "code",
   "execution_count": 181,
   "metadata": {},
   "outputs": [],
   "source": [
    "class Profile():\n",
    "    def __init__(self, filename):\n",
    "        self._metadata = {}\n",
    "        self._projets = {}\n",
    "        self._votes = {}\n",
    "        with open(filename, \"r\", encoding=\"utf8\") as self.file:\n",
    "            self.__read_lines()\n",
    "       \n",
    "    def __read_lines(self):\n",
    "        _sections = {\"META\":self._metadata, \n",
    "                     \"PROJECTS\":self._projets, \n",
    "                     \"VOTES\":self._votes}\n",
    "        _slices = {\"key\":\"value\",\n",
    "                   \"project_id\":\"cost\",\n",
    "                   \"voter_id\":\"vote\"}\n",
    "        \n",
    "        for line in self.file:\n",
    "            line = line.strip()\n",
    "            items = line.split(\";\")\n",
    "            try:\n",
    "                index = items.index(_slices[items[0]])\n",
    "            except KeyError:\n",
    "                pass\n",
    "            else:\n",
    "                continue\n",
    "            \n",
    "            try: \n",
    "                _current = _sections[line]\n",
    "            except KeyError:\n",
    "                pass\n",
    "            else:\n",
    "                continue\n",
    "            \n",
    "            _current[items[0]] = items[index]"
   ]
  },
  {
   "cell_type": "code",
   "execution_count": null,
   "metadata": {},
   "outputs": [],
   "source": []
  }
 ],
 "metadata": {
  "kernelspec": {
   "display_name": "Python 3",
   "language": "python",
   "name": "python3"
  },
  "language_info": {
   "codemirror_mode": {
    "name": "ipython",
    "version": 3
   },
   "file_extension": ".py",
   "mimetype": "text/x-python",
   "name": "python",
   "nbconvert_exporter": "python",
   "pygments_lexer": "ipython3",
   "version": "3.7.6"
  }
 },
 "nbformat": 4,
 "nbformat_minor": 4
}
