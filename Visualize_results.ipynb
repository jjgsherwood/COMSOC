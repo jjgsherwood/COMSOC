{
 "cells": [
  {
   "cell_type": "code",
   "execution_count": null,
   "metadata": {},
   "outputs": [],
   "source": [
    "import matplotlib.pyplot as plt"
   ]
  },
  {
   "cell_type": "code",
   "execution_count": null,
   "metadata": {},
   "outputs": [],
   "source": [
    "with open('eq_dict.pkl', \"wb\") as f:\n",
    "    pickle.dump(eq_dict, f)\n",
    "\n",
    "with open('max_dict.pkl', \"wb\") as f:\n",
    "    pickle.dump(max_dict, f)\n",
    "\n",
    "with open('greedy_dict.pkl', \"wb\") as f:\n",
    "    pickle.dump(greedy_dict, f)"
   ]
  }
 ],
 "metadata": {
  "kernelspec": {
   "display_name": "Python 3",
   "language": "python",
   "name": "python3"
  },
  "language_info": {
   "codemirror_mode": {
    "name": "ipython",
    "version": 3
   },
   "file_extension": ".py",
   "mimetype": "text/x-python",
   "name": "python",
   "nbconvert_exporter": "python",
   "pygments_lexer": "ipython3",
   "version": "3.7.9"
  }
 },
 "nbformat": 4,
 "nbformat_minor": 4
}
