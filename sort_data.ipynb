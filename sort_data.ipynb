{
 "cells": [
  {
   "cell_type": "code",
   "execution_count": 10,
   "metadata": {},
   "outputs": [],
   "source": [
    "import glob\n",
    "import pickle "
   ]
  },
  {
   "cell_type": "code",
   "execution_count": 27,
   "metadata": {},
   "outputs": [],
   "source": [
    "class Profile():\n",
    "    def __init__(self, filename):\n",
    "        self._metadata = {}\n",
    "        with open(filename, \"r\", encoding=\"utf8\") as self.file:\n",
    "            self.__read_lines()\n",
    "       \n",
    "    def __read_lines(self):\n",
    "        _current = self._metadata\n",
    "        _slices = {\"key\":\"value\",\n",
    "                   \"project_id\":\"cost\",\n",
    "                   \"voter_id\":\"vote\"}\n",
    "        \n",
    "        for line in self.file:\n",
    "            line = line.strip()\n",
    "            items = line.split(\";\")\n",
    "            try:\n",
    "                index = items.index(_slices[items[0]])\n",
    "            except KeyError:\n",
    "                pass\n",
    "            else:\n",
    "                continue\n",
    "\n",
    "            if line == \"PROJECTS\":\n",
    "                break\n",
    "            elif line == \"META\":\n",
    "                continue\n",
    "                \n",
    "            try:\n",
    "                _current[items[0]] = int(items[index])\n",
    "            except ValueError:\n",
    "                _current[items[0]] = items[index]\n",
    "            "
   ]
  },
  {
   "cell_type": "code",
   "execution_count": 28,
   "metadata": {},
   "outputs": [],
   "source": [
    "plurality = []\n",
    "k_approval = []\n",
    "approval = []\n",
    "\n",
    "for file in glob.glob(\"data//*.pb\"):\n",
    "    x = Profile(file)\n",
    "    if \"max_length\" in x._metadata:\n",
    "        if x._metadata[\"max_length\"] == \"1\":\n",
    "            plurality.append((file, x._metadata[\"num_projects\"], x._metadata[\"num_votes\"]))\n",
    "        else:\n",
    "            k_approval.append((file, x._metadata[\"num_projects\"], x._metadata[\"num_votes\"]))\n",
    "    else:\n",
    "        approval.append((file, x._metadata[\"num_projects\"], x._metadata[\"num_votes\"]))"
   ]
  },
  {
   "cell_type": "code",
   "execution_count": 29,
   "metadata": {},
   "outputs": [],
   "source": [
    "file_division = {\"plurality\": plurality,\n",
    "                 \"k_approval\": k_approval,\n",
    "                 \"approval\": approval}"
   ]
  },
  {
   "cell_type": "code",
   "execution_count": 30,
   "metadata": {},
   "outputs": [],
   "source": [
    "with open(\"data//sorted_files.pkl\", 'wb') as f:\n",
    "    pickle.dump(file_division, f)"
   ]
  },
  {
   "cell_type": "code",
   "execution_count": 31,
   "metadata": {},
   "outputs": [],
   "source": [
    "with open(\"data//sorted_files.pkl\", 'rb') as f:\n",
    "    file_division = pickle.load(f)"
   ]
  }
 ],
 "metadata": {
  "kernelspec": {
   "display_name": "Python 3",
   "language": "python",
   "name": "python3"
  },
  "language_info": {
   "codemirror_mode": {
    "name": "ipython",
    "version": 3
   },
   "file_extension": ".py",
   "mimetype": "text/x-python",
   "name": "python",
   "nbconvert_exporter": "python",
   "pygments_lexer": "ipython3",
   "version": "3.7.6"
  }
 },
 "nbformat": 4,
 "nbformat_minor": 4
}
