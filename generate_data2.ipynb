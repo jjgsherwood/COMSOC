{
 "cells": [
  {
   "cell_type": "markdown",
   "metadata": {},
   "source": [
    "2 main distributions:\n",
    "\n",
    "number of voters per cluster: e.g. (1000,1000,750,500,200,200,100,100,100)\n",
    "\n",
    "number of votes per project: e.g. (7000,6500,6000,4500,4000,3000,2000,2000,1500)\n",
    "\n",
    "2 sub distributions:\n",
    "\n",
    "number of approvals per voter: based on first two distributions\n",
    "\n",
    "number of projects in a cluster vs cluster size: e.g."
   ]
  },
  {
   "cell_type": "code",
   "execution_count": null,
   "metadata": {},
   "outputs": [],
   "source": []
  }
 ],
 "metadata": {
  "kernelspec": {
   "display_name": "Python 3",
   "language": "python",
   "name": "python3"
  },
  "language_info": {
   "codemirror_mode": {
    "name": "ipython",
    "version": 3
   },
   "file_extension": ".py",
   "mimetype": "text/x-python",
   "name": "python",
   "nbconvert_exporter": "python",
   "pygments_lexer": "ipython3",
   "version": "3.7.6"
  }
 },
 "nbformat": 4,
 "nbformat_minor": 4
}
